{
 "cells": [
  {
   "cell_type": "code",
   "execution_count": null,
   "metadata": {},
   "outputs": [],
   "source": [
    "# In this notebook, we will transform the raw data into the real input \n",
    "# Of course, it covers several tasks:\n",
    "# 1. Analyze Data\n",
    "# 2. Define the input format\n",
    "# 3. Normalize Data\n",
    "# 4. (Optional) Bulk, Add noise"
   ]
  },
  {
   "cell_type": "code",
   "execution_count": null,
   "metadata": {},
   "outputs": [],
   "source": [
    "# For overall model (DNN)\n",
    "#\n",
    "# Game > Round > Stage\n",
    "#\n",
    "# [Player's strength]\n",
    "# 1. Card's strength\n",
    "# 2. Current money\n",
    "#\n",
    "# [Current status]\n",
    "# 3. num(Current Stage's bet)    / num(bet player)\n",
    "# 4. num(Current Stage's all-in) / num(bet player)\n",
    "# 5. num(Current Stage's fold)   / num(bet player)\n",
    "# 6. num(Current Stage's check)  / num(bet player)\n",
    "# 7. Comprehensive index (player's money x player's aggresive action / num(bet player))\n",
    "#\n",
    "# [Historical Data]\n",
    "# 8.  Round number\n",
    "# 9.  Total bet    / Round number\n",
    "# 10. Total all-in / Round number\n",
    "# 11. Total fold   / Round number\n",
    "# 12. Total check  / Round number\n",
    "#\n",
    "# [Predict]\n",
    "# Bet or Not"
   ]
  },
  {
   "cell_type": "code",
   "execution_count": null,
   "metadata": {},
   "outputs": [],
   "source": [
    "# For lucky guess model (LSTM)\n",
    "#\n",
    "# 1. Cards on the table\n",
    "# 2. Player's action\n",
    "# 3. Player's money\n",
    "# 4. [Last] card's strength\n",
    "# \n",
    "# [Predict]\n",
    "# Each stage, player's card's strength"
   ]
  }
 ],
 "metadata": {
  "kernelspec": {
   "display_name": "Python 2",
   "language": "python",
   "name": "python2"
  },
  "language_info": {
   "codemirror_mode": {
    "name": "ipython",
    "version": 2
   },
   "file_extension": ".py",
   "mimetype": "text/x-python",
   "name": "python",
   "nbconvert_exporter": "python",
   "pygments_lexer": "ipython2",
   "version": "2.7.12"
  }
 },
 "nbformat": 4,
 "nbformat_minor": 2
}
