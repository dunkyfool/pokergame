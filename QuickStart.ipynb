{
 "cells": [
  {
   "cell_type": "code",
   "execution_count": 73,
   "metadata": {},
   "outputs": [
    {
     "name": "stdout",
     "output_type": "stream",
     "text": [
      "The autoreload extension is already loaded. To reload it, use:\n",
      "  %reload_ext autoreload\n"
     ]
    }
   ],
   "source": [
    "# Initialize the environment\n",
    "import time, os\n",
    "import numpy as np\n",
    "import matplotlib.pyplot as plt\n",
    "import tensorflow as tf\n",
    "from tensorflow import keras\n",
    "from tensorflow.keras import regularizers\n",
    "\n",
    "%matplotlib inline\n",
    "%load_ext autoreload\n",
    "%autoreload 2"
   ]
  },
  {
   "cell_type": "code",
   "execution_count": 74,
   "metadata": {},
   "outputs": [],
   "source": [
    "# Prepare data \n",
    "fashion_mnist = keras.datasets.fashion_mnist\n",
    "(train_images, train_labels), (test_images, test_labels) = fashion_mnist.load_data()"
   ]
  },
  {
   "cell_type": "code",
   "execution_count": 75,
   "metadata": {},
   "outputs": [
    {
     "name": "stdout",
     "output_type": "stream",
     "text": [
      "(60000, 28, 28)\n",
      "60000\n",
      "(10000, 28, 28)\n",
      "10000\n"
     ]
    }
   ],
   "source": [
    "# Check data\n",
    "print train_images.shape\n",
    "print len(train_labels)\n",
    "print test_images.shape\n",
    "print len(test_labels)"
   ]
  },
  {
   "cell_type": "code",
   "execution_count": 76,
   "metadata": {},
   "outputs": [],
   "source": [
    "#  Preprocess data\n",
    "#plt.figure()\n",
    "#plt.imshow(train_images[0])\n",
    "#plt.colorbar()\n",
    "#plt.gca().grid(False)\n",
    "\n",
    "train_images = train_images / 255.0\n",
    "test_images = test_images / 255.0"
   ]
  },
  {
   "cell_type": "code",
   "execution_count": 77,
   "metadata": {},
   "outputs": [],
   "source": [
    "# Create an simple model\n",
    "def createModel(lr,reg):\n",
    "    model = keras.Sequential([\n",
    "            keras.layers.Flatten(input_shape=(28, 28)),\n",
    "            keras.layers.Dense(128, activation=tf.nn.relu, kernel_regularizer=regularizers.l2(reg)),\n",
    "            keras.layers.Dense(10, activation=tf.nn.softmax, kernel_regularizer=regularizers.l2(reg))\n",
    "    ])\n",
    "    model.compile(optimizer=tf.train.AdamOptimizer(lr), \n",
    "                  loss='sparse_categorical_crossentropy',\n",
    "                  metrics=['accuracy'])\n",
    "    return model"
   ]
  },
  {
   "cell_type": "code",
   "execution_count": 78,
   "metadata": {},
   "outputs": [],
   "source": [
    "# Create tool for visualizeing quick scan\n",
    "def visQuickScan(results):\n",
    "    import math\n",
    "    x_scatter = [math.log10(x[0]) for x in results]\n",
    "    y_scatter = [math.log10(x[1]) for x in results]\n",
    "\n",
    "    # plot training accuracy\n",
    "    marker_size = 100\n",
    "    colors = [results[x][0] for x in results]\n",
    "    plt.subplot(2, 1, 1)\n",
    "    plt.scatter(x_scatter, y_scatter, marker_size, c=colors)\n",
    "    plt.colorbar()\n",
    "    plt.xlabel('log learning rate')\n",
    "    plt.ylabel('log regularization')\n",
    "    plt.title('training accuracy')\n",
    "\n",
    "    # plot test accuracy\n",
    "    colors = [results[x][1] for x in results] # default size of markers is 20\n",
    "    plt.subplot(2, 1, 2)\n",
    "    plt.scatter(x_scatter, y_scatter, marker_size, c=colors)\n",
    "    plt.colorbar()\n",
    "    plt.xlabel('log learning rate')\n",
    "    plt.ylabel('log regularization')\n",
    "    plt.title(' test accuracy')\n",
    "    plt.show()"
   ]
  },
  {
   "cell_type": "code",
   "execution_count": 79,
   "metadata": {},
   "outputs": [],
   "source": [
    "# Create quick scan loop to find out the entry point\n",
    "def quickScan(lr_range=[-3.0,-4.0],reg_range=[1,0],epoch=5,sample=10):\n",
    "    # init\n",
    "    results = {}\n",
    "    learning_rates = lr_range\n",
    "    regularization_strengths = reg_range\n",
    "    best_val = -1\n",
    "    best_lr, best_reg = 0, 0\n",
    "    \n",
    "    # Timing\n",
    "    tic = time.time()\n",
    "    for i in range(sample):\n",
    "        lr = 10**np.random.uniform(learning_rates[0],learning_rates[1])\n",
    "        reg = 10**np.random.uniform(regularization_strengths[0],regularization_strengths[1])\n",
    "        print 'No.', str(i)\n",
    "        print 'lr:', str(lr)\n",
    "        print 'reg:', str(reg)\n",
    "        \n",
    "        # model\n",
    "        model = createModel(lr,reg)\n",
    "        #model.summary()\n",
    "        \n",
    "        # training\n",
    "        model.fit(train_images, train_labels, epochs=epoch,\n",
    "                  validation_data = (test_images,test_labels))\n",
    "        \n",
    "        # evaluate result\n",
    "        train_loss, train_acc = model.evaluate(train_images, train_labels)\n",
    "        test_loss, test_acc = model.evaluate(test_images, test_labels)\n",
    "        print('Train accuracy:', train_acc)\n",
    "        print('Test accuracy:', test_acc)\n",
    "        \n",
    "        # record\n",
    "        results[(lr,reg)] = (train_acc,test_acc)\n",
    "        if best_val < test_acc:\n",
    "            print 'Found Better model!!!'\n",
    "            best_val = test_acc\n",
    "            best_lr = lr\n",
    "            best_reg = reg\n",
    "            model.save_weights('./weight/myBestweight')\n",
    "    \n",
    "    toc = time.time()\n",
    "    print 'Total Training: computed in %fs' % (toc - tic)\n",
    "    print 'Best Validation Record %.5f' % (best_val)\n",
    "    print 'Best Validation learning rate %.10f' % (best_lr)\n",
    "    print 'Best Validation regularization %.10f' % (best_reg)\n",
    "    \n",
    "    # Visaulize the distribution\n",
    "    visQuickScan(results)\n",
    "    \n",
    "    return best_lr, best_reg\n",
    "  "
   ]
  },
  {
   "cell_type": "code",
   "execution_count": 80,
   "metadata": {},
   "outputs": [
    {
     "name": "stdout",
     "output_type": "stream",
     "text": [
      "No. 0\n",
      "lr: 0.000289907064899\n",
      "reg: 6.17749178277e-05\n",
      "Train on 60000 samples, validate on 10000 samples\n",
      "Epoch 1/5\n",
      "60000/60000 [==============================] - 8s 126us/step - loss: 0.5809 - acc: 0.8082 - val_loss: 0.4987 - val_acc: 0.8351\n",
      "Epoch 2/5\n",
      "60000/60000 [==============================] - 6s 101us/step - loss: 0.4317 - acc: 0.8565 - val_loss: 0.4562 - val_acc: 0.8403\n",
      "Epoch 3/5\n",
      "60000/60000 [==============================] - 7s 110us/step - loss: 0.3978 - acc: 0.8674 - val_loss: 0.4201 - val_acc: 0.8585\n",
      "Epoch 4/5\n",
      "60000/60000 [==============================] - 7s 118us/step - loss: 0.3720 - acc: 0.8746 - val_loss: 0.4079 - val_acc: 0.8625\n",
      "Epoch 5/5\n",
      "60000/60000 [==============================] - 7s 109us/step - loss: 0.3568 - acc: 0.8811 - val_loss: 0.3920 - val_acc: 0.8693\n",
      "60000/60000 [==============================] - 3s 54us/step\n",
      "10000/10000 [==============================] - 0s 49us/step\n",
      "('Train accuracy:', 0.8882)\n",
      "('Test accuracy:', 0.8693)\n",
      "Found Better model!!!\n",
      "No. 1\n",
      "lr: 0.000270673178217\n",
      "reg: 6.43379616929e-05\n",
      "Train on 60000 samples, validate on 10000 samples\n",
      "Epoch 1/5\n",
      "60000/60000 [==============================] - 8s 126us/step - loss: 0.5867 - acc: 0.8090 - val_loss: 0.4818 - val_acc: 0.8402\n",
      "Epoch 2/5\n",
      "60000/60000 [==============================] - 6s 96us/step - loss: 0.4385 - acc: 0.8528 - val_loss: 0.4379 - val_acc: 0.8508\n",
      "Epoch 3/5\n",
      "60000/60000 [==============================] - 6s 102us/step - loss: 0.4009 - acc: 0.8664 - val_loss: 0.4285 - val_acc: 0.8552\n",
      "Epoch 4/5\n",
      "60000/60000 [==============================] - 6s 103us/step - loss: 0.3785 - acc: 0.8732 - val_loss: 0.3989 - val_acc: 0.8662\n",
      "Epoch 5/5\n",
      "60000/60000 [==============================] - 6s 101us/step - loss: 0.3598 - acc: 0.8804 - val_loss: 0.4113 - val_acc: 0.8598\n",
      "60000/60000 [==============================] - 3s 45us/step\n",
      "10000/10000 [==============================] - 0s 45us/step\n",
      "('Train accuracy:', 0.8793666666666666)\n",
      "('Test accuracy:', 0.8598)\n",
      "No. 2\n",
      "lr: 0.000401756292644\n",
      "reg: 1.33113617564e-05\n",
      "Train on 60000 samples, validate on 10000 samples\n",
      "Epoch 1/5\n",
      "60000/60000 [==============================] - 7s 122us/step - loss: 0.5454 - acc: 0.8151 - val_loss: 0.4599 - val_acc: 0.8407\n",
      "Epoch 2/5\n",
      "60000/60000 [==============================] - 6s 102us/step - loss: 0.4080 - acc: 0.8577 - val_loss: 0.4021 - val_acc: 0.8595\n",
      "Epoch 3/5\n",
      "60000/60000 [==============================] - 6s 103us/step - loss: 0.3716 - acc: 0.8705 - val_loss: 0.4024 - val_acc: 0.8596\n",
      "Epoch 4/5\n",
      "60000/60000 [==============================] - 7s 110us/step - loss: 0.3448 - acc: 0.8797 - val_loss: 0.3859 - val_acc: 0.8658\n",
      "Epoch 5/5\n",
      "60000/60000 [==============================] - 6s 107us/step - loss: 0.3282 - acc: 0.8833 - val_loss: 0.3649 - val_acc: 0.8718\n",
      "60000/60000 [==============================] - 3s 46us/step\n",
      "10000/10000 [==============================] - 1s 51us/step\n",
      "('Train accuracy:', 0.8941666666666667)\n",
      "('Test accuracy:', 0.8718)\n",
      "Found Better model!!!\n",
      "No. 3\n",
      "lr: 0.000808623438639\n",
      "reg: 5.33055275044e-05\n",
      "Train on 60000 samples, validate on 10000 samples\n",
      "Epoch 1/5\n",
      "60000/60000 [==============================] - 8s 130us/step - loss: 0.5155 - acc: 0.8241 - val_loss: 0.4617 - val_acc: 0.8405\n",
      "Epoch 2/5\n",
      "60000/60000 [==============================] - 7s 114us/step - loss: 0.3959 - acc: 0.8644 - val_loss: 0.4167 - val_acc: 0.8574\n",
      "Epoch 3/5\n",
      "60000/60000 [==============================] - 7s 119us/step - loss: 0.3664 - acc: 0.8753 - val_loss: 0.4039 - val_acc: 0.8669\n",
      "Epoch 4/5\n",
      "60000/60000 [==============================] - 7s 110us/step - loss: 0.3453 - acc: 0.8839 - val_loss: 0.3977 - val_acc: 0.8664\n",
      "Epoch 5/5\n",
      "60000/60000 [==============================] - 7s 110us/step - loss: 0.3319 - acc: 0.8892 - val_loss: 0.3720 - val_acc: 0.8756\n",
      "60000/60000 [==============================] - 3s 55us/step\n",
      "10000/10000 [==============================] - 1s 50us/step\n",
      "('Train accuracy:', 0.9004333333333333)\n",
      "('Test accuracy:', 0.8756)\n",
      "Found Better model!!!\n",
      "No. 4\n",
      "lr: 0.000559375828804\n",
      "reg: 9.48636968328e-05\n",
      "Train on 60000 samples, validate on 10000 samples\n",
      "Epoch 1/5\n",
      "60000/60000 [==============================] - 8s 133us/step - loss: 0.5465 - acc: 0.8204 - val_loss: 0.4860 - val_acc: 0.8371\n",
      "Epoch 2/5\n",
      "60000/60000 [==============================] - 7s 111us/step - loss: 0.4207 - acc: 0.8603 - val_loss: 0.4382 - val_acc: 0.8500\n",
      "Epoch 3/5\n",
      "60000/60000 [==============================] - 6s 106us/step - loss: 0.3870 - acc: 0.8725 - val_loss: 0.4108 - val_acc: 0.8619\n",
      "Epoch 4/5\n",
      "60000/60000 [==============================] - 6s 107us/step - loss: 0.3662 - acc: 0.8797 - val_loss: 0.3984 - val_acc: 0.8691\n",
      "Epoch 5/5\n",
      "60000/60000 [==============================] - 8s 126us/step - loss: 0.3516 - acc: 0.8846 - val_loss: 0.3861 - val_acc: 0.8761\n",
      "60000/60000 [==============================] - 3s 51us/step\n",
      "10000/10000 [==============================] - 0s 50us/step\n",
      "('Train accuracy:', 0.8968666666666667)\n",
      "('Test accuracy:', 0.8761)\n",
      "Found Better model!!!\n",
      "Total Training: computed in 189.200533s\n",
      "Best Validation Record 0.87610\n",
      "Best Validation learning rate 0.0005593758\n",
      "Best Validation regularization 0.0000948637\n"
     ]
    },
    {
     "data": {
      "image/png": "[encoded data removed]",
      "text/plain": [
       "<Figure size 432x288 with 4 Axes>"
      ]
     },
     "metadata": {},
     "output_type": "display_data"
    }
   ],
   "source": [
    "# Create the quick scan loop with the random learning rate & L2\n",
    "best_lr, best_reg = quickScan(lr_range=[-3.0,-4.0],reg_range=[-4.0,-5.0],epoch=5,sample=5)"
   ]
  },
  {
   "cell_type": "code",
   "execution_count": 81,
   "metadata": {},
   "outputs": [
    {
     "name": "stdout",
     "output_type": "stream",
     "text": [
      "60000/60000 [==============================] - 3s 54us/step\n",
      "10000/10000 [==============================] - 0s 49us/step\n",
      "('Train accuracy:', 0.8968666666666667)\n",
      "('Test accuracy:', 0.8761)\n",
      "[7.7288350e-06 6.1271828e-07 1.3495276e-05 8.6794835e-06 1.0988902e-05\n",
      " 3.6688570e-02 3.1061212e-05 4.5513283e-02 5.0864602e-04 9.1721690e-01]\n",
      "9\n",
      "9\n"
     ]
    }
   ],
   "source": [
    "# Use best model to predict label\n",
    "\n",
    "# load weight\n",
    "model = createModel(best_lr, best_reg)\n",
    "model.load_weights('./weight/myBestweight')\n",
    "\n",
    "train_loss, train_acc = model.evaluate(train_images, train_labels)\n",
    "test_loss, test_acc = model.evaluate(test_images, test_labels)\n",
    "print('Train accuracy:', train_acc)\n",
    "print('Test accuracy:', test_acc)\n",
    "\n",
    "# predict\n",
    "predictions = model.predict(test_images)\n",
    "print predictions[0]\n",
    "print np.argmax(predictions[0])\n",
    "print test_labels[0]"
   ]
  },
  {
   "cell_type": "code",
   "execution_count": null,
   "metadata": {},
   "outputs": [],
   "source": [
    "# Use the best model to train longer (marathon)\n",
    "# Load weight, lr, reg\n",
    "# Add checkpoint & tensorboard metrics"
   ]
  }
 ],
 "metadata": {
  "kernelspec": {
   "display_name": "Python 2",
   "language": "python",
   "name": "python2"
  },
  "language_info": {
   "codemirror_mode": {
    "name": "ipython",
    "version": 2
   },
   "file_extension": ".py",
   "mimetype": "text/x-python",
   "name": "python",
   "nbconvert_exporter": "python",
   "pygments_lexer": "ipython2",
   "version": "2.7.12"
  }
 },
 "nbformat": 4,
 "nbformat_minor": 2
}
